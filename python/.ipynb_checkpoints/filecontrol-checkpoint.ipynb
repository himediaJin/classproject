{
 "cells": [
  {
   "cell_type": "code",
   "execution_count": 1,
   "id": "5e2ac572",
   "metadata": {},
   "outputs": [],
   "source": [
    "# 쓰기\n",
    "f = open('text.txt', 'w')\n",
    "f.write('abcdefg')\n",
    "f.close()"
   ]
  },
  {
   "cell_type": "code",
   "execution_count": 3,
   "id": "ae8070ed",
   "metadata": {},
   "outputs": [],
   "source": [
    "# 추가\n",
    "f = open('text.txt', 'a')\n",
    "f.write(',000')\n",
    "f.close()"
   ]
  },
  {
   "cell_type": "code",
   "execution_count": 6,
   "id": "07b9f6be",
   "metadata": {},
   "outputs": [
    {
     "name": "stdout",
     "output_type": "stream",
     "text": [
      "abcdefg012345,000\n",
      "['abcdefg012345', '000']\n"
     ]
    }
   ],
   "source": [
    "# 읽기\n",
    "f = open('text.txt', 'r')\n",
    "data = f.read()\n",
    "print(data)\n",
    "list_temp = data.split(',')\n",
    "print(list_temp)\n",
    "f.close()"
   ]
  },
  {
   "cell_type": "code",
   "execution_count": 8,
   "id": "dc4aebca",
   "metadata": {},
   "outputs": [
    {
     "name": "stdout",
     "output_type": "stream",
     "text": [
      "이름,전화번호,등번호\n",
      "손흥민,010-1111-2222,7\n",
      "이강인,010-1111-2223,19\n",
      "김민재,010-1111-2224,20\n",
      "\n",
      "<class 'str'>\n"
     ]
    }
   ],
   "source": [
    "# csv\n",
    "f = open('list.csv', 'r')\n",
    "data = f.read()\n",
    "f.close()\n",
    "print(data)\n",
    "print(type(data))"
   ]
  },
  {
   "cell_type": "code",
   "execution_count": 10,
   "id": "d19c3c8a",
   "metadata": {},
   "outputs": [
    {
     "name": "stdout",
     "output_type": "stream",
     "text": [
      "['이름', '전화번호', '등번호']\n",
      "['손흥민', '010-1111-2222', '7']\n",
      "['이강인', '010-1111-2223', '19']\n",
      "['김민재', '010-1111-2224', '20']\n"
     ]
    }
   ],
   "source": [
    "import csv\n",
    "# read : 행의 데이터 -> list\n",
    "f = open('list.csv', 'r')\n",
    "data = csv.reader(f)\n",
    "for item in data:\n",
    "    print(item)\n",
    "f.close()"
   ]
  },
  {
   "cell_type": "code",
   "execution_count": 12,
   "id": "6d935e50",
   "metadata": {},
   "outputs": [
    {
     "name": "stdout",
     "output_type": "stream",
     "text": [
      "<class 'pandas.core.frame.DataFrame'>\n"
     ]
    }
   ],
   "source": [
    "# pandas csv read\n",
    "import pandas as pd\n",
    "\n",
    "data = pd.read_csv('list.csv', encoding='cp949')\n",
    "data\n",
    "print(type(data))"
   ]
  },
  {
   "cell_type": "code",
   "execution_count": 19,
   "id": "321cb078",
   "metadata": {},
   "outputs": [
    {
     "name": "stdout",
     "output_type": "stream",
     "text": [
      ">>>>>  <Worksheet \"list\">\n",
      "전화번호\n",
      "등번호\n",
      "-------------\n",
      "010-1111-2222\n",
      "7\n",
      "-------------\n",
      "010-1111-2223\n",
      "19\n",
      "-------------\n",
      "010-1111-2224\n",
      "20\n",
      "-------------\n"
     ]
    }
   ],
   "source": [
    "# xls , xlsx\n",
    "import openpyxl as xl\n",
    "\n",
    "data = xl.load_workbook('list.xlsx')\n",
    "sheet = data['list']\n",
    "print('>>>>> ' , sheet)\n",
    "\n",
    "for cell in sheet:\n",
    "    for i in cell:\n",
    "        print(i.value)\n",
    "    print('-------------')"
   ]
  },
  {
   "cell_type": "code",
   "execution_count": null,
   "id": "cf2b84fe",
   "metadata": {},
   "outputs": [],
   "source": []
  },
  {
   "cell_type": "code",
   "execution_count": null,
   "id": "3c629402",
   "metadata": {},
   "outputs": [],
   "source": []
  },
  {
   "cell_type": "code",
   "execution_count": null,
   "id": "837e1f04",
   "metadata": {},
   "outputs": [],
   "source": []
  },
  {
   "cell_type": "code",
   "execution_count": null,
   "id": "08266a5e",
   "metadata": {},
   "outputs": [],
   "source": []
  }
 ],
 "metadata": {
  "kernelspec": {
   "display_name": "Python 3 (ipykernel)",
   "language": "python",
   "name": "python3"
  },
  "language_info": {
   "codemirror_mode": {
    "name": "ipython",
    "version": 3
   },
   "file_extension": ".py",
   "mimetype": "text/x-python",
   "name": "python",
   "nbconvert_exporter": "python",
   "pygments_lexer": "ipython3",
   "version": "3.9.13"
  }
 },
 "nbformat": 4,
 "nbformat_minor": 5
}
