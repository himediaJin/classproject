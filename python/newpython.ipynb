{
 "cells": [
  {
   "cell_type": "code",
   "execution_count": 1,
   "id": "5c708068",
   "metadata": {},
   "outputs": [],
   "source": [
    "# 주석은 #을 쓴다\n",
    "# 숫자, 문자열, bool, 리스트, 튜플\n",
    "\n",
    "# type() => 데이터의 타입을 확인 함수\n"
   ]
  },
  {
   "cell_type": "code",
   "execution_count": 2,
   "id": "54f7cf3c",
   "metadata": {},
   "outputs": [
    {
     "name": "stdout",
     "output_type": "stream",
     "text": [
      "<class 'str'>\n"
     ]
    }
   ],
   "source": [
    "print(type('Hello!!!'))"
   ]
  },
  {
   "cell_type": "code",
   "execution_count": 3,
   "id": "815911e8",
   "metadata": {
    "scrolled": true
   },
   "outputs": [
    {
     "name": "stdout",
     "output_type": "stream",
     "text": [
      "<class 'int'>\n"
     ]
    }
   ],
   "source": [
    "print(type(100))"
   ]
  },
  {
   "cell_type": "code",
   "execution_count": 4,
   "id": "6bd9302e",
   "metadata": {
    "scrolled": true
   },
   "outputs": [
    {
     "name": "stdout",
     "output_type": "stream",
     "text": [
      "<class 'float'>\n"
     ]
    }
   ],
   "source": [
    "print(type(3.14))"
   ]
  },
  {
   "cell_type": "code",
   "execution_count": 5,
   "id": "b232b59c",
   "metadata": {},
   "outputs": [],
   "source": [
    "# str : 문자열 생성은 \"\" '' 로 만든다\n",
    "# \\문자를 통해서 \" \\\" \\' \\\\ \\t \\n \""
   ]
  },
  {
   "cell_type": "code",
   "execution_count": 6,
   "id": "08d86d8b",
   "metadata": {},
   "outputs": [
    {
     "name": "stdout",
     "output_type": "stream",
     "text": [
      "\"안녕\" \t 하'세'요 \n",
      "\n",
      "안녕하세요!\n"
     ]
    }
   ],
   "source": [
    "print(\"\\\"안녕\\\" \\t 하\\'세\\'요 \\n\")\n",
    "print(\"안녕하세요!\")"
   ]
  },
  {
   "cell_type": "code",
   "execution_count": 7,
   "id": "24337cbb",
   "metadata": {},
   "outputs": [
    {
     "name": "stdout",
     "output_type": "stream",
     "text": [
      "안녕하세요\n",
      "저는 손흥민입니다.\n",
      "영국에서 축구를 합니다.\n",
      "경기에서 골을 넣고 싶습니다.\n"
     ]
    }
   ],
   "source": [
    "print(\"\"\"안녕하세요\n",
    "저는 손흥민입니다.\n",
    "영국에서 축구를 합니다.\n",
    "경기에서 골을 넣고 싶습니다.\"\"\")"
   ]
  },
  {
   "cell_type": "code",
   "execution_count": 10,
   "id": "8dcc91e8",
   "metadata": {},
   "outputs": [
    {
     "name": "stdout",
     "output_type": "stream",
     "text": [
      "안녕하세요\n",
      "저는 손흥민입니다.영국에서 축구를 합니다.\n",
      "경기에서 골을 넣고 싶습니다.\n"
     ]
    }
   ],
   "source": [
    "print(\"\"\"\\\n",
    "안녕하세요\n",
    "저는 손흥민입니다.\\\n",
    "영국에서 축구를 합니다.\n",
    "경기에서 골을 넣고 싶습니다.\\\n",
    "\"\"\")"
   ]
  },
  {
   "cell_type": "code",
   "execution_count": null,
   "id": "8cf1afeb",
   "metadata": {},
   "outputs": [],
   "source": [
    "# 문자열 + 문자열 => 문자열\n",
    "# 문자열 + 숫자 => 오류"
   ]
  },
  {
   "cell_type": "code",
   "execution_count": 11,
   "id": "61856f94",
   "metadata": {},
   "outputs": [
    {
     "name": "stdout",
     "output_type": "stream",
     "text": [
      "안녕하세요\n"
     ]
    }
   ],
   "source": [
    "print('안녕' + '하세요')"
   ]
  },
  {
   "cell_type": "code",
   "execution_count": 14,
   "id": "8cf74aeb",
   "metadata": {},
   "outputs": [
    {
     "ename": "TypeError",
     "evalue": "can only concatenate str (not \"int\") to str",
     "output_type": "error",
     "traceback": [
      "\u001b[1;31m---------------------------------------------------------------------------\u001b[0m",
      "\u001b[1;31mTypeError\u001b[0m                                 Traceback (most recent call last)",
      "\u001b[1;32m~\\AppData\\Local\\Temp\\ipykernel_7388\\1881774071.py\u001b[0m in \u001b[0;36m<module>\u001b[1;34m\u001b[0m\n\u001b[1;32m----> 1\u001b[1;33m \u001b[0mprint\u001b[0m\u001b[1;33m(\u001b[0m\u001b[1;34m'안녕'\u001b[0m\u001b[1;33m+\u001b[0m\u001b[1;36m10\u001b[0m\u001b[1;33m)\u001b[0m\u001b[1;33m\u001b[0m\u001b[1;33m\u001b[0m\u001b[0m\n\u001b[0m",
      "\u001b[1;31mTypeError\u001b[0m: can only concatenate str (not \"int\") to str"
     ]
    }
   ],
   "source": [
    "print('안녕'+10)"
   ]
  },
  {
   "cell_type": "code",
   "execution_count": 15,
   "id": "c28a7db6",
   "metadata": {},
   "outputs": [
    {
     "name": "stdout",
     "output_type": "stream",
     "text": [
      "안녕안녕안녕\n"
     ]
    }
   ],
   "source": [
    "print('안녕'*3)"
   ]
  },
  {
   "cell_type": "code",
   "execution_count": 16,
   "id": "d85fb86b",
   "metadata": {},
   "outputs": [],
   "source": [
    "# str => 문자들의 집합\n",
    "# 인덱싱 사용 => 배열의 인덱스 처럼 사용\n",
    "# 인덱스 : 0 ~ N-1"
   ]
  },
  {
   "cell_type": "code",
   "execution_count": 17,
   "id": "f710b5fa",
   "metadata": {},
   "outputs": [
    {
     "name": "stdout",
     "output_type": "stream",
     "text": [
      "안\n",
      "녕\n",
      "하\n",
      "세\n",
      "요\n"
     ]
    }
   ],
   "source": [
    "print('안녕하세요'[0])\n",
    "print('안녕하세요'[1])\n",
    "print('안녕하세요'[2])\n",
    "print('안녕하세요'[3])\n",
    "print('안녕하세요'[4])"
   ]
  },
  {
   "cell_type": "code",
   "execution_count": 18,
   "id": "cea2e3e2",
   "metadata": {},
   "outputs": [
    {
     "ename": "IndexError",
     "evalue": "string index out of range",
     "output_type": "error",
     "traceback": [
      "\u001b[1;31m---------------------------------------------------------------------------\u001b[0m",
      "\u001b[1;31mIndexError\u001b[0m                                Traceback (most recent call last)",
      "\u001b[1;32m~\\AppData\\Local\\Temp\\ipykernel_7388\\1268038451.py\u001b[0m in \u001b[0;36m<module>\u001b[1;34m\u001b[0m\n\u001b[1;32m----> 1\u001b[1;33m \u001b[0mprint\u001b[0m\u001b[1;33m(\u001b[0m\u001b[1;34m'안녕하세요'\u001b[0m\u001b[1;33m[\u001b[0m\u001b[1;36m5\u001b[0m\u001b[1;33m]\u001b[0m\u001b[1;33m)\u001b[0m\u001b[1;33m\u001b[0m\u001b[1;33m\u001b[0m\u001b[0m\n\u001b[0m",
      "\u001b[1;31mIndexError\u001b[0m: string index out of range"
     ]
    }
   ],
   "source": [
    "print('안녕하세요'[5])"
   ]
  },
  {
   "cell_type": "code",
   "execution_count": 19,
   "id": "f32979cf",
   "metadata": {},
   "outputs": [
    {
     "name": "stdout",
     "output_type": "stream",
     "text": [
      "요\n",
      "세\n",
      "하\n",
      "녕\n",
      "안\n"
     ]
    }
   ],
   "source": [
    "print('안녕하세요'[-1])\n",
    "print('안녕하세요'[-2])\n",
    "print('안녕하세요'[-3])\n",
    "print('안녕하세요'[-4])\n",
    "print('안녕하세요'[-5])"
   ]
  },
  {
   "cell_type": "code",
   "execution_count": null,
   "id": "f5c1c8fd",
   "metadata": {},
   "outputs": [],
   "source": [
    "# [] => 스라이싱 : 범위 선택\n",
    "# [ 시작 인덱스 : 종료 위치 ]   => 시작 인덱스 ~ 종료위치-1\n",
    "#  => [ 1 : 4]  -> 1, 2, 3, \n",
    "# [ 시작 인덱스 : 종료 위치 ]   => 시작 인덱스 ~ 종료위치-1\n",
    "# 시작 인덱스 생략 경우 : [ : 4]  => 0 ~ 4-1\n",
    "# 종료 위치를 생략 경우 :  [ 2 : ] => 2 ~ 끝까지"
   ]
  },
  {
   "cell_type": "code",
   "execution_count": 20,
   "id": "d711b3db",
   "metadata": {},
   "outputs": [
    {
     "name": "stdout",
     "output_type": "stream",
     "text": [
      "녕하세\n"
     ]
    }
   ],
   "source": [
    "print('안녕하세요'[1:4])"
   ]
  },
  {
   "cell_type": "code",
   "execution_count": 23,
   "id": "ecc29d28",
   "metadata": {},
   "outputs": [
    {
     "name": "stdout",
     "output_type": "stream",
     "text": [
      "안녕하\n"
     ]
    }
   ],
   "source": [
    "print('안녕하세요'[:3])"
   ]
  },
  {
   "cell_type": "code",
   "execution_count": 25,
   "id": "afd9d1a0",
   "metadata": {},
   "outputs": [
    {
     "name": "stdout",
     "output_type": "stream",
     "text": [
      "세요\n"
     ]
    }
   ],
   "source": [
    "print('안녕하세요'[3:])"
   ]
  },
  {
   "cell_type": "code",
   "execution_count": null,
   "id": "dcfdc843",
   "metadata": {},
   "outputs": [],
   "source": [
    "# 숫자 타입\n",
    "# 정수 int, 실수 float\n",
    "# 사칙연산 => +, -, *, /, %\n",
    "# 정수 나누기: //\n",
    "# 제곱 연산 : **"
   ]
  },
  {
   "cell_type": "code",
   "execution_count": 30,
   "id": "58a1df0a",
   "metadata": {},
   "outputs": [
    {
     "name": "stdout",
     "output_type": "stream",
     "text": [
      "3\n",
      "3.3333333333333335\n",
      "3\n",
      "9\n"
     ]
    }
   ],
   "source": [
    "print(1+2)\n",
    "print(10/3)\n",
    "# 정수 결과만 나오는 나누기 연산\n",
    "print(10//3)\n",
    "# 제곱\n",
    "print(3**2)"
   ]
  },
  {
   "cell_type": "code",
   "execution_count": null,
   "id": "ab0fa64c",
   "metadata": {},
   "outputs": [],
   "source": [
    "# 변수 사용\n",
    "# 변수 = 데이터\n",
    "# 복합대입연산자 사용가능"
   ]
  },
  {
   "cell_type": "code",
   "execution_count": 31,
   "id": "f6ea7581",
   "metadata": {},
   "outputs": [],
   "source": [
    "pi = 3.14\n",
    "r = 2"
   ]
  },
  {
   "cell_type": "code",
   "execution_count": 32,
   "id": "682e1033",
   "metadata": {},
   "outputs": [
    {
     "name": "stdout",
     "output_type": "stream",
     "text": [
      "원주율 :  3.14 반지름 :  2\n"
     ]
    }
   ],
   "source": [
    "print('원주율 : ', pi, '반지름 : ',r)"
   ]
  },
  {
   "cell_type": "code",
   "execution_count": null,
   "id": "662ecf40",
   "metadata": {},
   "outputs": [],
   "source": [
    "# 캐스팅 함수\n",
    "# 문자열 -> 정수 : int()\n",
    "# 문자열 -> 실수 : float()\n",
    "# 숫자 -> 문자열 : str() "
   ]
  },
  {
   "cell_type": "code",
   "execution_count": 33,
   "id": "f843b157",
   "metadata": {},
   "outputs": [],
   "source": [
    "# 문자열을 다루는 함수\n",
    "# format()\n",
    "# upper() lower()\n",
    "# strip() lstrip() rstrip()\n",
    "# find()\n",
    "# split()\n",
    "# isOOO\n",
    "# in 연산자"
   ]
  },
  {
   "cell_type": "code",
   "execution_count": 38,
   "id": "5092fb65",
   "metadata": {},
   "outputs": [
    {
     "name": "stdout",
     "output_type": "stream",
     "text": [
      "100 만원\n",
      "1 string True\n"
     ]
    }
   ],
   "source": [
    "# format : 문자열 포맷팅\n",
    "format_a = '{} 만원'.format(100)\n",
    "print(format_a)\n",
    "format_b = '{} {} {}'.format(1, 'string', True)\n",
    "print(format_b)"
   ]
  },
  {
   "cell_type": "code",
   "execution_count": 42,
   "id": "97b6119a",
   "metadata": {},
   "outputs": [
    {
     "name": "stdout",
     "output_type": "stream",
     "text": [
      "###   String   ###\n",
      "###String###\n",
      "###String   ###\n",
      "###   String###\n"
     ]
    }
   ],
   "source": [
    "# strip() lstrip() rstrip() : 공백 제거 해주는 함수\n",
    "str1 = '   String   '\n",
    "print('###'+str1+'###')\n",
    "print('###'+str1.strip()+'###')\n",
    "print('###'+str1.lstrip()+'###')\n",
    "print('###'+str1.rstrip()+'###')"
   ]
  },
  {
   "cell_type": "code",
   "execution_count": 44,
   "id": "8c09c139",
   "metadata": {},
   "outputs": [
    {
     "name": "stdout",
     "output_type": "stream",
     "text": [
      "2\n"
     ]
    }
   ],
   "source": [
    "# find() : 문자열을 포함하는 위치 인덱스 반환\n",
    "result1 = '안녕하세요'.find('하')\n",
    "print(result1)"
   ]
  },
  {
   "cell_type": "code",
   "execution_count": 45,
   "id": "79f7c2c3",
   "metadata": {},
   "outputs": [
    {
     "name": "stdout",
     "output_type": "stream",
     "text": [
      "<class 'list'> ['1', '2', '3', '4', '5']\n"
     ]
    }
   ],
   "source": [
    "# split() : 문자열을 첨자로 나누고 각 자눠진 결과를 리스트로 반환\n",
    "list_1 = '1 2 3 4 5'.split(' ')\n",
    "print(type(list_1), list_1)"
   ]
  },
  {
   "cell_type": "code",
   "execution_count": 51,
   "id": "d4888c5d",
   "metadata": {},
   "outputs": [
    {
     "name": "stdout",
     "output_type": "stream",
     "text": [
      "False\n",
      "False\n"
     ]
    }
   ],
   "source": [
    "# isOOO : 문자열의 구성 파악\n",
    "print('Test123!$'.isalnum())\n",
    "print('1000원'.isdigit())"
   ]
  },
  {
   "cell_type": "code",
   "execution_count": 53,
   "id": "1cdd91e5",
   "metadata": {},
   "outputs": [
    {
     "name": "stdout",
     "output_type": "stream",
     "text": [
      "True\n",
      "False\n"
     ]
    }
   ],
   "source": [
    "# in 연산자\n",
    "print( '안녕' in '안녕하세요')\n",
    "print( '바이' in '안녕하세요')"
   ]
  },
  {
   "cell_type": "code",
   "execution_count": 57,
   "id": "3a837164",
   "metadata": {},
   "outputs": [
    {
     "name": "stdout",
     "output_type": "stream",
     "text": [
      "정수 입력 >>> -10\n",
      "음수\n"
     ]
    }
   ],
   "source": [
    "# 흐름제어\n",
    "# if\n",
    "\n",
    "# input함수는 문자열을 반환\n",
    "num1 = input('정수 입력 >>> ') \n",
    "num2 = int(num1)\n",
    "\n",
    "if num2 > 0 :\n",
    "    print('양수')\n",
    "\n",
    "if num2 < 0 :\n",
    "    print('음수')\n",
    "    \n",
    "if num2 == 0:\n",
    "    print('0')"
   ]
  },
  {
   "cell_type": "code",
   "execution_count": 60,
   "id": "48bc130f",
   "metadata": {},
   "outputs": [
    {
     "name": "stdout",
     "output_type": "stream",
     "text": [
      "정수 입력 >>> -20\n",
      "음수\n"
     ]
    }
   ],
   "source": [
    "# 흐름제어\n",
    "# if\n",
    "\n",
    "# input함수는 문자열을 반환\n",
    "num1 = input('정수 입력 >>> ') \n",
    "num2 = int(num1)\n",
    "\n",
    "if num2 > 0 :\n",
    "    print('양수')\n",
    "elif num2 < 0 :\n",
    "    print('음수')\n",
    "else :\n",
    "    print('0')\n"
   ]
  },
  {
   "cell_type": "code",
   "execution_count": 63,
   "id": "91e1716b",
   "metadata": {},
   "outputs": [
    {
     "name": "stdout",
     "output_type": "stream",
     "text": [
      "비어 있는 리스트는 False\n"
     ]
    }
   ],
   "source": [
    "# 0은 False\n",
    "# 공백 문자열은 False\n",
    "# 비어 있는 리스트는 False\n",
    "# None : 함수에서 반환 값이 없을 때 반환되는 값 => False\n",
    "\n",
    "if [] :\n",
    "    print('비어 있는 리스트는 True')\n",
    "else :\n",
    "    print('비어 있는 리스트는 False')"
   ]
  },
  {
   "cell_type": "code",
   "execution_count": 68,
   "id": "4625baf6",
   "metadata": {},
   "outputs": [],
   "source": [
    "# pass 키워드 \n",
    "\n",
    "num3 = 10\n",
    "\n",
    "if num3 > 0 :\n",
    "    pass\n",
    "else :\n",
    "    pass"
   ]
  },
  {
   "cell_type": "code",
   "execution_count": 76,
   "id": "7b0fb19d",
   "metadata": {},
   "outputs": [
    {
     "name": "stdout",
     "output_type": "stream",
     "text": [
      "55\n",
      "문자열 열 문자\n",
      "True\n",
      "참\n",
      "[10, 900, 55, '문자열', False, False]\n"
     ]
    },
    {
     "ename": "IndexError",
     "evalue": "list index out of range",
     "output_type": "error",
     "traceback": [
      "\u001b[1;31m---------------------------------------------------------------------------\u001b[0m",
      "\u001b[1;31mIndexError\u001b[0m                                Traceback (most recent call last)",
      "\u001b[1;32m~\\AppData\\Local\\Temp\\ipykernel_7388\\3380238478.py\u001b[0m in \u001b[0;36m<module>\u001b[1;34m\u001b[0m\n\u001b[0;32m     15\u001b[0m \u001b[0mprint\u001b[0m\u001b[1;33m(\u001b[0m\u001b[0mlist_temp\u001b[0m\u001b[1;33m)\u001b[0m\u001b[1;33m\u001b[0m\u001b[1;33m\u001b[0m\u001b[0m\n\u001b[0;32m     16\u001b[0m \u001b[1;33m\u001b[0m\u001b[0m\n\u001b[1;32m---> 17\u001b[1;33m \u001b[0mprint\u001b[0m\u001b[1;33m(\u001b[0m\u001b[0mlist_temp\u001b[0m\u001b[1;33m[\u001b[0m\u001b[1;36m12\u001b[0m\u001b[1;33m]\u001b[0m\u001b[1;33m)\u001b[0m\u001b[1;33m\u001b[0m\u001b[1;33m\u001b[0m\u001b[0m\n\u001b[0m",
      "\u001b[1;31mIndexError\u001b[0m: list index out of range"
     ]
    }
   ],
   "source": [
    "# list 자료형 : 배열과 비슷한 형태, 집합과 같이 데이터들을 묶어서 사용\n",
    "# 데이터들의 타입은 일치하지 않아도 된다\n",
    "# [] 사용, 인덱스값을 통해서 참조\n",
    "\n",
    "list_temp = [10, 900, 55, '문자열', True, False]\n",
    "\n",
    "print(list_temp[2])\n",
    "print(list_temp[3], list_temp[3][2], list_temp[3][:2])\n",
    "print(list_temp[-2])\n",
    "\n",
    "if list_temp[-2] :\n",
    "    print('참')\n",
    "    list_temp[-2]=False\n",
    "    \n",
    "print(list_temp)\n",
    "\n",
    "#print(list_temp[12])"
   ]
  },
  {
   "cell_type": "code",
   "execution_count": 78,
   "id": "c07c4b44",
   "metadata": {},
   "outputs": [],
   "source": [
    "# list 연산 : +, * ,  "
   ]
  },
  {
   "cell_type": "code",
   "execution_count": 92,
   "id": "dff599a2",
   "metadata": {},
   "outputs": [
    {
     "name": "stdout",
     "output_type": "stream",
     "text": [
      "[1, 2, 3, 4, 5, 6]\n",
      "[1, 2, 3]\n",
      "[4, 5, 6]\n",
      "list_a 리스트의 요소의 개수  3\n",
      "요소 추가  [1, 2, 3, 4]\n",
      "0 번지에 10을 추가  [10, 1, 2, 3, 4]\n",
      "원본 리스트에 데이터를 추가 [4, 5, 6, 133, 500, 874]\n",
      "삭제 del [4, 5, 6, 133, 874]\n",
      "삭제 pop [4, 5, 6, 133]\n",
      "삭제 remove [4, 5, 6]\n",
      "[1, 4, 5, 6, 7]\n",
      "[6, 7]\n",
      "전체 삭제 []\n",
      "True\n"
     ]
    }
   ],
   "source": [
    "# + 연산 : 리스트의 연결 => 새로운 리스트 생성\n",
    "# 함수 : extend(), append(), insert(), del(), remove(), clear() , len,\n",
    "\n",
    "list_a = [1,2,3]\n",
    "list_b = [4,5,6]\n",
    "\n",
    "print(list_a+list_b)\n",
    "print(list_a)\n",
    "print(list_b)\n",
    "print('list_a 리스트의 요소의 개수 ', len(list_a))\n",
    "\n",
    "list_a.append(4)\n",
    "print('요소 추가 ',list_a)\n",
    "\n",
    "list_a.insert(0, 10)\n",
    "print('0 번지에 10을 추가 ', list_a)\n",
    "\n",
    "list_b.extend([133,500,874])\n",
    "print('원본 리스트에 데이터를 추가', list_b)\n",
    "\n",
    "del list_b[4]\n",
    "print('삭제 del', list_b)\n",
    "\n",
    "list_b.pop(4)\n",
    "print('삭제 pop', list_b)\n",
    "\n",
    "list_b.remove(133)\n",
    "print('삭제 remove', list_b)\n",
    "\n",
    "list_c = [1,2,3,4,5,6,7]\n",
    "del list_c[1:3]\n",
    "print(list_c)\n",
    "\n",
    "# [1, 4, 5, 6, 7]\n",
    "del list_c[:3]\n",
    "print(list_c)\n",
    "\n",
    "list_c.clear()\n",
    "print('전체 삭제', list_c)\n",
    "\n",
    "print( 5 in list_b )"
   ]
  },
  {
   "cell_type": "code",
   "execution_count": 94,
   "id": "7356177f",
   "metadata": {},
   "outputs": [
    {
     "name": "stdout",
     "output_type": "stream",
     "text": [
      "0\n",
      "1\n",
      "2\n",
      "3\n",
      "4\n",
      "4\n",
      "5\n",
      "6\n"
     ]
    }
   ],
   "source": [
    "# for 반복문\n",
    "\n",
    "for i in range(5):\n",
    "    print(i)\n",
    "    \n",
    "for item in list_b:\n",
    "    print(item)"
   ]
  },
  {
   "cell_type": "code",
   "execution_count": 1,
   "id": "d490f9ce",
   "metadata": {},
   "outputs": [
    {
     "name": "stdout",
     "output_type": "stream",
     "text": [
      "<class 'dict'> {}\n"
     ]
    }
   ],
   "source": [
    "# 딕셔너리 : 리스트 처럼 데이터를 묶음으로 저장\n",
    "# 저장 : key, value 형식으로 저장\n",
    "# 참조 : key값으로 참조\n",
    "\n",
    "dic_a = {}\n",
    "print(type(dic_a), dic_a)"
   ]
  },
  {
   "cell_type": "code",
   "execution_count": 3,
   "id": "278d41ee",
   "metadata": {},
   "outputs": [
    {
     "name": "stdout",
     "output_type": "stream",
     "text": [
      "[1, 2, 3, 4, 5, 1, 2, 3]\n",
      "{1, 2, 3, 4, 5}\n"
     ]
    }
   ],
   "source": [
    "dic_b = {1,2,3,4,5,1,2,3}\n",
    "list_a1 = [1,2,3,4,5,1,2,3]\n",
    "print(list_a1)\n",
    "print(dic_b)"
   ]
  },
  {
   "cell_type": "code",
   "execution_count": 5,
   "id": "11520d03",
   "metadata": {},
   "outputs": [
    {
     "name": "stdout",
     "output_type": "stream",
     "text": [
      "{'no': 7, 'name': '손흥민'}\n",
      "7\n",
      "손흥민\n"
     ]
    }
   ],
   "source": [
    "dic_c = {\n",
    "    'no' : 7,\n",
    "    'name' : '손흥민'    \n",
    "}\n",
    "print(dic_c)\n",
    "print(dic_c['no'])\n",
    "print(dic_c['name'])"
   ]
  },
  {
   "cell_type": "code",
   "execution_count": 6,
   "id": "15e248b4",
   "metadata": {},
   "outputs": [
    {
     "name": "stdout",
     "output_type": "stream",
     "text": [
      "{'no': 7, 'name': '손흥민', 'team': '토트넘'}\n"
     ]
    }
   ],
   "source": [
    "dic_c['team'] = '토트넘'\n",
    "print(dic_c)"
   ]
  },
  {
   "cell_type": "code",
   "execution_count": 7,
   "id": "53b47cd0",
   "metadata": {},
   "outputs": [
    {
     "name": "stdout",
     "output_type": "stream",
     "text": [
      "{'no': 7, 'name': '손흥민'}\n"
     ]
    }
   ],
   "source": [
    "del dic_c['team']\n",
    "print(dic_c)"
   ]
  },
  {
   "cell_type": "code",
   "execution_count": 8,
   "id": "ad5c2425",
   "metadata": {},
   "outputs": [
    {
     "ename": "KeyError",
     "evalue": "'team'",
     "output_type": "error",
     "traceback": [
      "\u001b[1;31m---------------------------------------------------------------------------\u001b[0m",
      "\u001b[1;31mKeyError\u001b[0m                                  Traceback (most recent call last)",
      "\u001b[1;32m~\\AppData\\Local\\Temp\\ipykernel_19320\\3681583083.py\u001b[0m in \u001b[0;36m<module>\u001b[1;34m\u001b[0m\n\u001b[1;32m----> 1\u001b[1;33m \u001b[0mprint\u001b[0m\u001b[1;33m(\u001b[0m\u001b[0mdic_c\u001b[0m\u001b[1;33m[\u001b[0m\u001b[1;34m'team'\u001b[0m\u001b[1;33m]\u001b[0m\u001b[1;33m)\u001b[0m\u001b[1;33m\u001b[0m\u001b[1;33m\u001b[0m\u001b[0m\n\u001b[0m",
      "\u001b[1;31mKeyError\u001b[0m: 'team'"
     ]
    }
   ],
   "source": [
    "print(dic_c['team'])"
   ]
  },
  {
   "cell_type": "code",
   "execution_count": 9,
   "id": "52c73ddd",
   "metadata": {},
   "outputs": [
    {
     "name": "stdout",
     "output_type": "stream",
     "text": [
      "None\n"
     ]
    }
   ],
   "source": [
    "print(dic_c.get('team'))"
   ]
  },
  {
   "cell_type": "code",
   "execution_count": 11,
   "id": "0d07f9ec",
   "metadata": {},
   "outputs": [
    {
     "name": "stdout",
     "output_type": "stream",
     "text": [
      "존재하지 않는 Key!!!\n"
     ]
    }
   ],
   "source": [
    "key = 'team'\n",
    "if key in dic_c :\n",
    "    print(dic_c[key])\n",
    "else :\n",
    "    print(\"존재하지 않는 Key!!!\")"
   ]
  },
  {
   "cell_type": "code",
   "execution_count": 14,
   "id": "1b90cde0",
   "metadata": {},
   "outputs": [
    {
     "name": "stdout",
     "output_type": "stream",
     "text": [
      "None\n",
      "존재하지 않는 Key!!!!!\n"
     ]
    }
   ],
   "source": [
    "playerName = dic_c.get('team')\n",
    "\n",
    "print(playerName)\n",
    "\n",
    "if playerName == None:\n",
    "    print('존재하지 않는 Key!!!!!')\n"
   ]
  },
  {
   "cell_type": "code",
   "execution_count": 16,
   "id": "33132ff3",
   "metadata": {},
   "outputs": [
    {
     "name": "stdout",
     "output_type": "stream",
     "text": [
      "no 7\n",
      "name 손흥민\n"
     ]
    }
   ],
   "source": [
    "for key in dic_c:\n",
    "    print(key, dic_c[key])"
   ]
  },
  {
   "cell_type": "code",
   "execution_count": null,
   "id": "2a115835",
   "metadata": {},
   "outputs": [],
   "source": [
    "# range() : 특정 범위의 숫자를 생성\n",
    "# range(n) : 0 ~ n-1 범위의 숫자 생성\n",
    "# range(index, n) : index ~ n-1\n",
    "# range(index, n, step) : index ~ n-1, 증가하 값은 step만큼 증가"
   ]
  },
  {
   "cell_type": "code",
   "execution_count": 25,
   "id": "09f1953a",
   "metadata": {},
   "outputs": [
    {
     "name": "stdout",
     "output_type": "stream",
     "text": [
      "<class 'range'> range(1, 10, 3)\n",
      "[1, 4, 7]\n",
      "반복\n",
      "반복\n",
      "반복\n"
     ]
    }
   ],
   "source": [
    "a = range(1,10, 3)\n",
    "print(type(a),a)\n",
    "list_b = list(a)\n",
    "print(list_b)\n",
    "\n",
    "for i in a:\n",
    "    print('반복')"
   ]
  },
  {
   "cell_type": "code",
   "execution_count": 27,
   "id": "783a9277",
   "metadata": {},
   "outputs": [
    {
     "name": "stdout",
     "output_type": "stream",
     "text": [
      "1 1\n",
      "7 2\n",
      "17 3\n",
      "99 4\n",
      "14 5\n"
     ]
    }
   ],
   "source": [
    "list_c = [1,7,17, 99, 14]\n",
    "\n",
    "cnt = 0;\n",
    "\n",
    "for item in list_c:\n",
    "    cnt += 1\n",
    "    print(item, cnt)"
   ]
  },
  {
   "cell_type": "code",
   "execution_count": 28,
   "id": "828cc11e",
   "metadata": {},
   "outputs": [
    {
     "name": "stdout",
     "output_type": "stream",
     "text": [
      "1 1\n",
      "2 7\n",
      "3 17\n",
      "4 99\n",
      "5 14\n"
     ]
    }
   ],
   "source": [
    "for i in range(len(list_c)) :\n",
    "    print(i+1, list_c[i])"
   ]
  },
  {
   "cell_type": "code",
   "execution_count": 30,
   "id": "72d8d3eb",
   "metadata": {},
   "outputs": [
    {
     "name": "stdout",
     "output_type": "stream",
     "text": [
      "5\n",
      "4\n",
      "3\n",
      "2\n",
      "1\n"
     ]
    }
   ],
   "source": [
    "for i in range(5, 0, -1) :\n",
    "    print(i)"
   ]
  },
  {
   "cell_type": "code",
   "execution_count": 33,
   "id": "17a27a3b",
   "metadata": {},
   "outputs": [
    {
     "name": "stdout",
     "output_type": "stream",
     "text": [
      "5\n",
      "4\n",
      "3\n",
      "2\n",
      "1\n"
     ]
    }
   ],
   "source": [
    "for i in reversed(range(1,5+1)) :\n",
    "    print(i)"
   ]
  },
  {
   "cell_type": "code",
   "execution_count": 36,
   "id": "87e48d84",
   "metadata": {},
   "outputs": [
    {
     "name": "stdout",
     "output_type": "stream",
     "text": [
      "0\n",
      "1\n",
      "2\n",
      "3\n",
      "4\n"
     ]
    }
   ],
   "source": [
    "# while : 반복문 => 조건의 결과를 True로 하는 경우 사용\n",
    "\n",
    "i=0\n",
    "while i<5 :\n",
    "    print(i)\n",
    "    i += 1"
   ]
  },
  {
   "cell_type": "code",
   "execution_count": 39,
   "id": "94f0775e",
   "metadata": {},
   "outputs": [
    {
     "name": "stdout",
     "output_type": "stream",
     "text": [
      "[1, 2, 1, 2]\n",
      "[2, 2]\n"
     ]
    }
   ],
   "source": [
    "list_d = [1,2,1,2]\n",
    "print(list_d)\n",
    "#list_d.remove(1)\n",
    "\n",
    "while 1 in list_d :\n",
    "    list_d.remove(1)\n",
    "\n",
    "print(list_d)"
   ]
  },
  {
   "cell_type": "code",
   "execution_count": 40,
   "id": "b4814afb",
   "metadata": {},
   "outputs": [],
   "source": [
    "# 함수 : input -> 처리 -> return\n",
    "# 매개변수 처리 => 가변 매개변수, 매개변수의 기본 값\n",
    "# def 함수이름() : ... return"
   ]
  },
  {
   "cell_type": "code",
   "execution_count": 41,
   "id": "7996e630",
   "metadata": {},
   "outputs": [
    {
     "name": "stdout",
     "output_type": "stream",
     "text": [
      "안녕!!!\n",
      "안녕!!!\n",
      "안녕!!!\n"
     ]
    }
   ],
   "source": [
    "def print_3() :\n",
    "    print('안녕!!!')\n",
    "    print('안녕!!!')\n",
    "    print('안녕!!!')\n",
    "    \n",
    "print_3()"
   ]
  },
  {
   "cell_type": "code",
   "execution_count": 45,
   "id": "ff033016",
   "metadata": {},
   "outputs": [
    {
     "name": "stdout",
     "output_type": "stream",
     "text": [
      "Hello~##\n",
      "Hello~##\n",
      "Hello~##\n"
     ]
    },
    {
     "ename": "TypeError",
     "evalue": "print_times() missing 2 required positional arguments: 'value' and 'n'",
     "output_type": "error",
     "traceback": [
      "\u001b[1;31m---------------------------------------------------------------------------\u001b[0m",
      "\u001b[1;31mTypeError\u001b[0m                                 Traceback (most recent call last)",
      "\u001b[1;32m~\\AppData\\Local\\Temp\\ipykernel_19320\\224105798.py\u001b[0m in \u001b[0;36m<module>\u001b[1;34m\u001b[0m\n\u001b[0;32m      4\u001b[0m \u001b[1;33m\u001b[0m\u001b[0m\n\u001b[0;32m      5\u001b[0m \u001b[0mprint_times\u001b[0m\u001b[1;33m(\u001b[0m\u001b[1;34m'Hello~##'\u001b[0m\u001b[1;33m,\u001b[0m \u001b[1;36m3\u001b[0m\u001b[1;33m)\u001b[0m\u001b[1;33m\u001b[0m\u001b[1;33m\u001b[0m\u001b[0m\n\u001b[1;32m----> 6\u001b[1;33m \u001b[0mprint_times\u001b[0m\u001b[1;33m(\u001b[0m\u001b[1;33m)\u001b[0m\u001b[1;33m\u001b[0m\u001b[1;33m\u001b[0m\u001b[0m\n\u001b[0m",
      "\u001b[1;31mTypeError\u001b[0m: print_times() missing 2 required positional arguments: 'value' and 'n'"
     ]
    }
   ],
   "source": [
    "def print_times(value, n):\n",
    "    for i in range(n):\n",
    "        print(value)\n",
    "        \n",
    "print_times('Hello~##', 3)\n",
    "print_times()"
   ]
  },
  {
   "cell_type": "code",
   "execution_count": 46,
   "id": "2a9bc90a",
   "metadata": {},
   "outputs": [
    {
     "name": "stdout",
     "output_type": "stream",
     "text": [
      "a\n",
      "b\n",
      "c\n",
      "--------\n",
      "a\n",
      "b\n",
      "c\n",
      "--------\n",
      "a\n",
      "b\n",
      "c\n",
      "--------\n"
     ]
    }
   ],
   "source": [
    "def print_n_times(n, *values):\n",
    "    for i in range(n):\n",
    "        for value in values:\n",
    "            print(value)\n",
    "        print('--------')\n",
    "        \n",
    "print_n_times(3, 'a', 'b', 'c')"
   ]
  },
  {
   "cell_type": "code",
   "execution_count": 49,
   "id": "d8e0c2d7",
   "metadata": {},
   "outputs": [
    {
     "name": "stdout",
     "output_type": "stream",
     "text": [
      "a\n",
      "b\n",
      "c\n",
      "--------\n"
     ]
    }
   ],
   "source": [
    "def print_n_times(*values, n=2 ):\n",
    "    for i in range(n):\n",
    "        for value in values:\n",
    "            print(value)\n",
    "        print('--------')\n",
    "        \n",
    "print_n_times('a', 'b', 'c', n=1)"
   ]
  },
  {
   "cell_type": "code",
   "execution_count": 52,
   "id": "2984e0e8",
   "metadata": {},
   "outputs": [
    {
     "name": "stdout",
     "output_type": "stream",
     "text": [
      "60\n",
      "610\n",
      "120\n"
     ]
    }
   ],
   "source": [
    "def test(a, b=10, c=100) :\n",
    "    print(a+b+c)\n",
    "    \n",
    "test(10, 20, 30)\n",
    "test(c=10, b=100, a=500)\n",
    "test(10)"
   ]
  },
  {
   "cell_type": "code",
   "execution_count": 56,
   "id": "41458c58",
   "metadata": {},
   "outputs": [
    {
     "name": "stdout",
     "output_type": "stream",
     "text": [
      "5050\n",
      "55\n",
      "2550\n"
     ]
    }
   ],
   "source": [
    "def sum_all(start=0, end=100, step=1) :\n",
    "    output = 0\n",
    "    \n",
    "    for i in range(start, end+1, step):\n",
    "        output += i\n",
    "        \n",
    "    return output\n",
    "\n",
    "print(sum_all())    \n",
    "print(sum_all(end=10))\n",
    "print(sum_all(end=100, step=2))"
   ]
  },
  {
   "cell_type": "code",
   "execution_count": null,
   "id": "5c4e13a2",
   "metadata": {},
   "outputs": [],
   "source": []
  },
  {
   "cell_type": "code",
   "execution_count": null,
   "id": "1b169ff8",
   "metadata": {},
   "outputs": [],
   "source": []
  },
  {
   "cell_type": "code",
   "execution_count": null,
   "id": "70f795ba",
   "metadata": {},
   "outputs": [],
   "source": []
  },
  {
   "cell_type": "code",
   "execution_count": null,
   "id": "0141b03c",
   "metadata": {},
   "outputs": [],
   "source": []
  },
  {
   "cell_type": "code",
   "execution_count": null,
   "id": "5d9ba46d",
   "metadata": {},
   "outputs": [],
   "source": []
  }
 ],
 "metadata": {
  "kernelspec": {
   "display_name": "Python 3 (ipykernel)",
   "language": "python",
   "name": "python3"
  },
  "language_info": {
   "codemirror_mode": {
    "name": "ipython",
    "version": 3
   },
   "file_extension": ".py",
   "mimetype": "text/x-python",
   "name": "python",
   "nbconvert_exporter": "python",
   "pygments_lexer": "ipython3",
   "version": "3.9.13"
  }
 },
 "nbformat": 4,
 "nbformat_minor": 5
}
