{
 "cells": [
  {
   "cell_type": "code",
   "execution_count": 3,
   "id": "923a80a6",
   "metadata": {},
   "outputs": [
    {
     "name": "stdout",
     "output_type": "stream",
     "text": [
      "<class 'pandas.core.frame.DataFrame'>\n"
     ]
    }
   ],
   "source": [
    "# pandas 이용해서 데이터 불러오기\n",
    "import pandas as pd\n",
    "\n",
    "result = pd.read_csv('201312.csv', encoding='cp949')\n",
    "print(type(result))"
   ]
  },
  {
   "cell_type": "code",
   "execution_count": 20,
   "id": "58a9c05b",
   "metadata": {},
   "outputs": [],
   "source": [
    "print(result.columns)"
   ]
  },
  {
   "cell_type": "code",
   "execution_count": 5,
   "id": "e4dad996",
   "metadata": {},
   "outputs": [
    {
     "name": "stdout",
     "output_type": "stream",
     "text": [
      "61\n"
     ]
    }
   ],
   "source": [
    "print(len(result.columns))"
   ]
  },
  {
   "cell_type": "code",
   "execution_count": 7,
   "id": "82272b69",
   "metadata": {},
   "outputs": [
    {
     "name": "stdout",
     "output_type": "stream",
     "text": [
      "2013년_총인구수\n",
      "2014년_총인구수\n",
      "2015년_총인구수\n",
      "2016년_총인구수\n",
      "2017년_총인구수\n",
      "2018년_총인구수\n",
      "2019년_총인구수\n",
      "2020년_총인구수\n",
      "2021년_총인구수\n",
      "2022년_총인구수\n"
     ]
    }
   ],
   "source": [
    "for i in range(1, len(result.columns), 6):\n",
    "    print(result.columns[i])"
   ]
  },
  {
   "cell_type": "code",
   "execution_count": 16,
   "id": "0039f6c5",
   "metadata": {},
   "outputs": [
    {
     "name": "stdout",
     "output_type": "stream",
     "text": [
      "서울특별시 강동구 (1174000000)\n"
     ]
    }
   ],
   "source": [
    "# 행 단위 데이터 확인\n",
    "print(result.iloc[25, 0])"
   ]
  },
  {
   "cell_type": "code",
   "execution_count": 17,
   "id": "663869c8",
   "metadata": {},
   "outputs": [
    {
     "name": "stdout",
     "output_type": "stream",
     "text": [
      "2013년_총인구수    483,379\n",
      "2014년_총인구수    476,597\n",
      "2015년_총인구수    458,658\n",
      "2016년_총인구수    444,168\n",
      "2017년_총인구수    436,223\n",
      "2018년_총인구수    427,573\n",
      "2019년_총인구수    436,067\n",
      "2020년_총인구수    459,970\n",
      "2021년_총인구수    462,664\n",
      "2022년_총인구수    460,067\n",
      "Name: 25, dtype: object\n"
     ]
    }
   ],
   "source": [
    "print(result.iloc[25, range(1, len(result.columns), 6)])"
   ]
  },
  {
   "cell_type": "code",
   "execution_count": 26,
   "id": "941a8786",
   "metadata": {},
   "outputs": [],
   "source": [
    "import pandas as pd\n",
    "\n",
    "result = pd.read_csv('201312.csv', encoding='cp949')\n",
    "\n",
    "# 시각화에 필요한 데이터 셑\n",
    "data = {}\n",
    "\n",
    "# { '서울특별시 강동구 (1174000000)': []}\n",
    "\n",
    "\n",
    "for i in range(1, len(result)):\n",
    "    data[result.iloc[i,0]] = result.iloc[i, range(1, len(result.columns), 6)]\n",
    "\n"
   ]
  },
  {
   "cell_type": "code",
   "execution_count": 22,
   "id": "89394a82",
   "metadata": {},
   "outputs": [
    {
     "name": "stdout",
     "output_type": "stream",
     "text": [
      "{'서울특별시 종로구 (1111000000)': 2013년_총인구수    160,070\n",
      "2014년_총인구수    156,993\n",
      "2015년_총인구수    154,986\n",
      "2016년_총인구수    152,737\n",
      "2017년_총인구수    154,770\n",
      "2018년_총인구수    153,065\n",
      "2019년_총인구수    151,290\n",
      "2020년_총인구수    149,384\n",
      "2021년_총인구수    144,683\n",
      "2022년_총인구수    141,379\n",
      "Name: 1, dtype: object, '서울특별시 중구 (1114000000)': 2013년_총인구수    130,465\n",
      "2014년_총인구수    128,065\n",
      "2015년_총인구수    125,733\n",
      "2016년_총인구수    125,249\n",
      "2017년_총인구수    125,709\n",
      "2018년_총인구수    125,725\n",
      "2019년_총인구수    126,171\n",
      "2020년_총인구수    125,240\n",
      "2021년_총인구수    122,499\n",
      "2022년_총인구수    120,437\n",
      "Name: 2, dtype: object, '서울특별시 용산구 (1117000000)': 2013년_총인구수    239,740\n",
      "2014년_총인구수    235,951\n",
      "2015년_총인구수    233,342\n",
      "2016년_총인구수    230,241\n",
      "2017년_총인구수    229,161\n",
      "2018년_총인구수    228,999\n",
      "2019년_총인구수    228,670\n",
      "2020년_총인구수    230,040\n",
      "2021년_총인구수    222,953\n",
      "2022년_총인구수    218,650\n",
      "Name: 3, dtype: object, '서울특별시 성동구 (1120000000)': 2013년_총인구수    299,337\n",
      "2014년_총인구수    296,086\n",
      "2015년_총인구수    297,003\n",
      "2016년_총인구수    299,259\n",
      "2017년_총인구수    304,808\n",
      "2018년_총인구수    308,221\n",
      "2019년_총인구수    300,889\n",
      "2020년_총인구수    293,556\n",
      "2021년_총인구수    285,990\n",
      "2022년_총인구수    281,000\n",
      "Name: 4, dtype: object, '서울특별시 광진구 (1121500000)': 2013년_총인구수    368,927\n",
      "2014년_총인구수    363,354\n",
      "2015년_총인구수    360,369\n",
      "2016년_총인구수    357,215\n",
      "2017년_총인구수    357,703\n",
      "2018년_총인구수    355,559\n",
      "2019년_총인구수    351,350\n",
      "2020년_총인구수    346,682\n",
      "2021년_총인구수    339,996\n",
      "2022년_총인구수    337,416\n",
      "Name: 5, dtype: object, '서울특별시 동대문구 (1123000000)': 2013년_총인구수    364,273\n",
      "2014년_총인구수    363,687\n",
      "2015년_총인구수    360,153\n",
      "2016년_총인구수    355,069\n",
      "2017년_총인구수    350,647\n",
      "2018년_총인구수    348,052\n",
      "2019년_총인구수    346,194\n",
      "2020년_총인구수    342,837\n",
      "2021년_총인구수    337,400\n",
      "2022년_총인구수    336,644\n",
      "Name: 6, dtype: object, '서울특별시 중랑구 (1126000000)': 2013년_총인구수    416,798\n",
      "2014년_총인구수    418,836\n",
      "2015년_총인구수    413,909\n",
      "2016년_총인구수    411,005\n",
      "2017년_총인구수    408,226\n",
      "2018년_총인구수    403,209\n",
      "2019년_총인구수    397,015\n",
      "2020년_총인구수    394,702\n",
      "2021년_총인구수    387,350\n",
      "2022년_총인구수    385,318\n",
      "Name: 7, dtype: object, '서울특별시 성북구 (1129000000)': 2013년_총인구수    476,589\n",
      "2014년_총인구수    466,706\n",
      "2015년_총인구수    459,275\n",
      "2016년_총인구수    450,355\n",
      "2017년_총인구수    444,055\n",
      "2018년_총인구수    435,868\n",
      "2019년_총인구수    442,650\n",
      "2020년_총인구수    437,153\n",
      "2021년_총인구수    430,528\n",
      "2022년_총인구수    430,397\n",
      "Name: 8, dtype: object, '서울특별시 강북구 (1130500000)': 2013년_총인구수    338,707\n",
      "2014년_총인구수    335,025\n",
      "2015년_총인구수    330,873\n",
      "2016년_총인구수    327,195\n",
      "2017년_총인구수    324,479\n",
      "2018년_총인구수    319,164\n",
      "2019년_총인구수    313,954\n",
      "2020년_총인구수    308,055\n",
      "2021년_총인구수    299,182\n",
      "2022년_총인구수    293,660\n",
      "Name: 9, dtype: object, '서울특별시 도봉구 (1132000000)': 2013년_총인구수    358,582\n",
      "2014년_총인구수    353,709\n",
      "2015년_총인구수    351,242\n",
      "2016년_총인구수    348,220\n",
      "2017년_총인구수    344,166\n",
      "2018년_총인구수    339,413\n",
      "2019년_총인구수    333,362\n",
      "2020년_총인구수    325,257\n",
      "2021년_총인구수    317,366\n",
      "2022년_총인구수    311,694\n",
      "Name: 10, dtype: object, '서울특별시 노원구 (1135000000)': 2013년_총인구수    590,479\n",
      "2014년_총인구수    582,552\n",
      "2015년_총인구수    574,583\n",
      "2016년_총인구수    567,581\n",
      "2017년_총인구수    554,403\n",
      "2018년_총인구수    543,752\n",
      "2019년_총인구수    532,905\n",
      "2020년_총인구수    523,037\n",
      "2021년_총인구수    510,956\n",
      "2022년_총인구수    503,734\n",
      "Name: 11, dtype: object, '서울특별시 은평구 (1138000000)': 2013년_총인구수    503,660\n",
      "2014년_총인구수    498,644\n",
      "2015년_총인구수    497,920\n",
      "2016년_총인구수    491,476\n",
      "2017년_총인구수    486,794\n",
      "2018년_총인구수    483,197\n",
      "2019년_총인구수    480,032\n",
      "2020년_총인구수    479,835\n",
      "2021년_총인구수    473,307\n",
      "2022년_총인구수    466,746\n",
      "Name: 12, dtype: object, '서울특별시 서대문구 (1141000000)': 2013년_총인구수    314,110\n",
      "2014년_총인구수    310,376\n",
      "2015년_총인구수    312,141\n",
      "2016년_총인구수    314,194\n",
      "2017년_총인구수    312,800\n",
      "2018년_총인구수    310,313\n",
      "2019년_총인구수    309,397\n",
      "2020년_총인구수    312,173\n",
      "2021년_총인구수    304,819\n",
      "2022년_총인구수    306,337\n",
      "Name: 13, dtype: object, '서울특별시 마포구 (1144000000)': 2013년_총인구수    381,856\n",
      "2014년_총인구수    385,439\n",
      "2015년_총인구수    387,643\n",
      "2016년_총인구수    379,892\n",
      "2017년_총인구수    374,915\n",
      "2018년_총인구수    375,077\n",
      "2019년_총인구수    374,035\n",
      "2020년_총인구수    371,890\n",
      "2021년_총인구수    368,905\n",
      "2022년_총인구수    364,638\n",
      "Name: 14, dtype: object, '서울특별시 양천구 (1147000000)': 2013년_총인구수    492,528\n",
      "2014년_총인구수    486,221\n",
      "2015년_총인구수    484,532\n",
      "2016년_총인구수    477,739\n",
      "2017년_총인구수    471,154\n",
      "2018년_총인구수    464,185\n",
      "2019년_총인구수    458,165\n",
      "2020년_총인구수    454,251\n",
      "2021년_총인구수    447,302\n",
      "2022년_총인구수    440,881\n",
      "Name: 15, dtype: object, '서울특별시 강서구 (1150000000)': 2013년_총인구수    569,070\n",
      "2014년_총인구수    585,160\n",
      "2015년_총인구수    589,074\n",
      "2016년_총인구수    595,485\n",
      "2017년_총인구수    601,691\n",
      "2018년_총인구수    596,949\n",
      "2019년_총인구수    591,796\n",
      "2020년_총인구수    580,185\n",
      "2021년_총인구수    574,315\n",
      "2022년_총인구수    569,166\n",
      "Name: 16, dtype: object, '서울특별시 구로구 (1153000000)': 2013년_총인구수    424,964\n",
      "2014년_총인구수    425,831\n",
      "2015년_총인구수    422,092\n",
      "2016년_총인구수    417,551\n",
      "2017년_총인구수    410,742\n",
      "2018년_총인구수    404,497\n",
      "2019년_총인구수    406,664\n",
      "2020년_총인구수    404,408\n",
      "2021년_총인구수    396,754\n",
      "2022년_총인구수    395,315\n",
      "Name: 17, dtype: object, '서울특별시 금천구 (1154500000)': 2013년_총인구수    241,020\n",
      "2014년_총인구수    238,463\n",
      "2015년_총인구수    236,284\n",
      "2016년_총인구수    235,386\n",
      "2017년_총인구수    235,154\n",
      "2018년_총인구수    233,917\n",
      "2019년_총인구수    232,810\n",
      "2020년_총인구수    231,733\n",
      "2021년_총인구수    230,811\n",
      "2022년_총인구수    229,642\n",
      "Name: 18, dtype: object, '서울특별시 영등포구 (1156000000)': 2013년_총인구수    386,471\n",
      "2014년_총인구수    382,352\n",
      "2015년_총인구수    378,504\n",
      "2016년_총인구수    370,613\n",
      "2017년_총인구수    368,550\n",
      "2018년_총인구수    367,778\n",
      "2019년_총인구수    367,678\n",
      "2020년_총인구수    379,480\n",
      "2021년_총인구수    376,837\n",
      "2022년_총인구수    375,675\n",
      "Name: 19, dtype: object, '서울특별시 동작구 (1159000000)': 2013년_총인구수    410,815\n",
      "2014년_총인구수    407,470\n",
      "2015년_총인구수    400,641\n",
      "2016년_총인구수    400,997\n",
      "2017년_총인구수    396,217\n",
      "2018년_총인구수    396,203\n",
      "2019년_총인구수    395,963\n",
      "2020년_총인구수    391,220\n",
      "2021년_총인구수    385,483\n",
      "2022년_총인구수    380,596\n",
      "Name: 20, dtype: object, '서울특별시 관악구 (1162000000)': 2013년_총인구수    518,028\n",
      "2014년_총인구수    513,186\n",
      "2015년_총인구수    509,663\n",
      "2016년_총인구수    506,851\n",
      "2017년_총인구수    503,297\n",
      "2018년_총인구수    501,957\n",
      "2019년_총인구수    500,094\n",
      "2020년_총인구수    495,060\n",
      "2021년_총인구수    485,699\n",
      "2022년_총인구수    486,752\n",
      "Name: 21, dtype: object, '서울특별시 서초구 (1165000000)': 2013년_총인구수    441,763\n",
      "2014년_총인구수    449,678\n",
      "2015년_총인구수    446,764\n",
      "2016년_총인구수    447,192\n",
      "2017년_총인구수    441,102\n",
      "2018년_총인구수    433,951\n",
      "2019년_총인구수    430,826\n",
      "2020년_총인구수    425,126\n",
      "2021년_총인구수    412,279\n",
      "2022년_총인구수    404,325\n",
      "Name: 22, dtype: object, '서울특별시 강남구 (1168000000)': 2013년_총인구수    563,599\n",
      "2014년_총인구수    578,114\n",
      "2015년_총인구수    576,495\n",
      "2016년_총인구수    567,115\n",
      "2017년_총인구수    556,164\n",
      "2018년_총인구수    542,364\n",
      "2019년_총인구수    545,169\n",
      "2020년_총인구수    539,231\n",
      "2021년_총인구수    533,042\n",
      "2022년_총인구수    529,102\n",
      "Name: 23, dtype: object, '서울특별시 송파구 (1171000000)': 2013년_총인구수    668,415\n",
      "2014년_총인구수    664,738\n",
      "2015년_총인구수    660,302\n",
      "2016년_총인구수    657,831\n",
      "2017년_총인구수    664,496\n",
      "2018년_총인구수    666,635\n",
      "2019년_총인구수    675,961\n",
      "2020년_총인구수    667,960\n",
      "2021년_총인구수    658,338\n",
      "2022년_총인구수    658,801\n",
      "Name: 24, dtype: object, '서울특별시 강동구 (1174000000)': 2013년_총인구수    483,379\n",
      "2014년_총인구수    476,597\n",
      "2015년_총인구수    458,658\n",
      "2016년_총인구수    444,168\n",
      "2017년_총인구수    436,223\n",
      "2018년_총인구수    427,573\n",
      "2019년_총인구수    436,067\n",
      "2020년_총인구수    459,970\n",
      "2021년_총인구수    462,664\n",
      "2022년_총인구수    460,067\n",
      "Name: 25, dtype: object}\n"
     ]
    }
   ],
   "source": [
    "print(data)"
   ]
  },
  {
   "cell_type": "code",
   "execution_count": 27,
   "id": "5c67ded1",
   "metadata": {},
   "outputs": [
    {
     "data": {
      "image/png": "[encoded data removed]",
      "text/plain": [
       "<Figure size 640x480 with 1 Axes>"
      ]
     },
     "metadata": {},
     "output_type": "display_data"
    }
   ],
   "source": [
    "import matplotlib.pyplot as plt\n",
    "\n",
    "plt.ylim([420000, 490000])\n",
    "\n",
    "loc = '서울특별시 강동구 (1174000000)'\n",
    "\n",
    "for i in range(len(data[loc])):\n",
    "    # str -> ',' 를 제거 -> 문자를 숫자타입으로 변경\n",
    "    data[loc][i] = int(data[loc][i].replace(',', ''))\n",
    "    plt.bar(data[loc].index[i].split('년_')[0], data[loc][i])\n",
    "    \n",
    "plt.show()\n"
   ]
  },
  {
   "cell_type": "code",
   "execution_count": null,
   "id": "51d6eb3e",
   "metadata": {},
   "outputs": [],
   "source": []
  },
  {
   "cell_type": "code",
   "execution_count": null,
   "id": "8f48b137",
   "metadata": {},
   "outputs": [],
   "source": []
  },
  {
   "cell_type": "code",
   "execution_count": null,
   "id": "2ef74289",
   "metadata": {},
   "outputs": [],
   "source": []
  },
  {
   "cell_type": "code",
   "execution_count": null,
   "id": "d89bc29e",
   "metadata": {},
   "outputs": [],
   "source": []
  }
 ],
 "metadata": {
  "kernelspec": {
   "display_name": "Python 3 (ipykernel)",
   "language": "python",
   "name": "python3"
  },
  "language_info": {
   "codemirror_mode": {
    "name": "ipython",
    "version": 3
   },
   "file_extension": ".py",
   "mimetype": "text/x-python",
   "name": "python",
   "nbconvert_exporter": "python",
   "pygments_lexer": "ipython3",
   "version": "3.9.13"
  }
 },
 "nbformat": 4,
 "nbformat_minor": 5
}
