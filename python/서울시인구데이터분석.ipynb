{
 "cells": [
  {
   "cell_type": "code",
   "execution_count": 3,
   "id": "dd529a46",
   "metadata": {},
   "outputs": [
    {
     "name": "stdout",
     "output_type": "stream",
     "text": [
      "<class 'pandas.core.frame.DataFrame'>\n"
     ]
    }
   ],
   "source": [
    "# pandas 이용해서 데이터 불러오기\n",
    "import pandas as pd\n",
    "\n",
    "result = pd.read_csv('201312.csv', encoding='cp949')\n",
    "print(type(result))"
   ]
  },
  {
   "cell_type": "code",
   "execution_count": 4,
   "id": "19a1f449",
   "metadata": {},
   "outputs": [
    {
     "name": "stdout",
     "output_type": "stream",
     "text": [
      "Index(['행정구역', '2013년_총인구수', '2013년_세대수', '2013년_세대당 인구', '2013년_남자 인구수',\n",
      "       '2013년_여자 인구수', '2013년_남여 비율', '2014년_총인구수', '2014년_세대수',\n",
      "       '2014년_세대당 인구', '2014년_남자 인구수', '2014년_여자 인구수', '2014년_남여 비율',\n",
      "       '2015년_총인구수', '2015년_세대수', '2015년_세대당 인구', '2015년_남자 인구수',\n",
      "       '2015년_여자 인구수', '2015년_남여 비율', '2016년_총인구수', '2016년_세대수',\n",
      "       '2016년_세대당 인구', '2016년_남자 인구수', '2016년_여자 인구수', '2016년_남여 비율',\n",
      "       '2017년_총인구수', '2017년_세대수', '2017년_세대당 인구', '2017년_남자 인구수',\n",
      "       '2017년_여자 인구수', '2017년_남여 비율', '2018년_총인구수', '2018년_세대수',\n",
      "       '2018년_세대당 인구', '2018년_남자 인구수', '2018년_여자 인구수', '2018년_남여 비율',\n",
      "       '2019년_총인구수', '2019년_세대수', '2019년_세대당 인구', '2019년_남자 인구수',\n",
      "       '2019년_여자 인구수', '2019년_남여 비율', '2020년_총인구수', '2020년_세대수',\n",
      "       '2020년_세대당 인구', '2020년_남자 인구수', '2020년_여자 인구수', '2020년_남여 비율',\n",
      "       '2021년_총인구수', '2021년_세대수', '2021년_세대당 인구', '2021년_남자 인구수',\n",
      "       '2021년_여자 인구수', '2021년_남여 비율', '2022년_총인구수', '2022년_세대수',\n",
      "       '2022년_세대당 인구', '2022년_남자 인구수', '2022년_여자 인구수', '2022년_남여 비율'],\n",
      "      dtype='object')\n"
     ]
    }
   ],
   "source": [
    "print(result.columns)"
   ]
  },
  {
   "cell_type": "code",
   "execution_count": 5,
   "id": "ec5c5396",
   "metadata": {},
   "outputs": [
    {
     "name": "stdout",
     "output_type": "stream",
     "text": [
      "61\n"
     ]
    }
   ],
   "source": [
    "print(len(result.columns))"
   ]
  },
  {
   "cell_type": "code",
   "execution_count": 7,
   "id": "e9d4de7c",
   "metadata": {},
   "outputs": [
    {
     "name": "stdout",
     "output_type": "stream",
     "text": [
      "2013년_총인구수\n",
      "2014년_총인구수\n",
      "2015년_총인구수\n",
      "2016년_총인구수\n",
      "2017년_총인구수\n",
      "2018년_총인구수\n",
      "2019년_총인구수\n",
      "2020년_총인구수\n",
      "2021년_총인구수\n",
      "2022년_총인구수\n"
     ]
    }
   ],
   "source": [
    "for i in range(1, len(result.columns), 6):\n",
    "    print(result.columns[i])"
   ]
  },
  {
   "cell_type": "code",
   "execution_count": null,
   "id": "cd4406df",
   "metadata": {},
   "outputs": [],
   "source": []
  }
 ],
 "metadata": {
  "kernelspec": {
   "display_name": "Python 3 (ipykernel)",
   "language": "python",
   "name": "python3"
  },
  "language_info": {
   "codemirror_mode": {
    "name": "ipython",
    "version": 3
   },
   "file_extension": ".py",
   "mimetype": "text/x-python",
   "name": "python",
   "nbconvert_exporter": "python",
   "pygments_lexer": "ipython3",
   "version": "3.9.13"
  }
 },
 "nbformat": 4,
 "nbformat_minor": 5
}
